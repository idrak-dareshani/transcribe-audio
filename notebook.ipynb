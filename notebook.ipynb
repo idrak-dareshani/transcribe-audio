{
 "cells": [
  {
   "cell_type": "code",
   "execution_count": null,
   "id": "e8a9ddb0",
   "metadata": {},
   "outputs": [],
   "source": [
    "import whisper\n",
    "\n",
    "model = whisper.load_model(\"large-v3\")\n",
    "\n",
    "result = model.transcribe(\"110 - SURAH AN-NASR.mp3\", language=\"ur\")\n",
    "\n",
    "content = result.get(\"text\", \"\")\n",
    "with open(\"110 - SURAH AN-NASR.txt\", \"w\", encoding=\"utf-8\") as f:\n",
    "    f.write(content)"
   ]
  },
  {
   "cell_type": "code",
   "execution_count": null,
   "id": "78f7add7",
   "metadata": {},
   "outputs": [],
   "source": [
    "from faster_whisper import WhisperModel\n",
    "\n",
    "model_fast = WhisperModel(\"large-v3\", device=\"cpu\", compute_type=\"int8\")\n",
    "segments, info = model_fast.transcribe(\"110 - SURAH AN-NASR.mp3\", language=\"ur\")\n",
    "transcript = \"\".join(segment.text for segment in segments)\n",
    "with open(\"110 - SURAH AN-NASR.txt\", \"w\", encoding=\"utf-8\") as f:\n",
    "    f.write(transcript)"
   ]
  },
  {
   "cell_type": "code",
   "execution_count": 5,
   "id": "2d914b19",
   "metadata": {},
   "outputs": [],
   "source": [
    "from post_processor import UrduTextFormatter\n",
    "\n",
    "formatter = UrduTextFormatter()\n",
    "with open(\"110 - SURAH AN-NASR.txt\", \"r\", encoding=\"utf-8\") as f:\n",
    "    text = f.read()\n",
    "formatted_text = formatter.format_transcript(text)\n",
    "\n",
    "with open(\"110 - SURAH AN-NASR-formatted.txt\", \"w\", encoding=\"utf-8\") as f:\n",
    "    f.write(formatted_text)"
   ]
  },
  {
   "cell_type": "code",
   "execution_count": null,
   "id": "9693c697",
   "metadata": {},
   "outputs": [],
   "source": [
    "# add punctuation and newline for Urdu"
   ]
  }
 ],
 "metadata": {
  "kernelspec": {
   "display_name": ".venv",
   "language": "python",
   "name": "python3"
  },
  "language_info": {
   "codemirror_mode": {
    "name": "ipython",
    "version": 3
   },
   "file_extension": ".py",
   "mimetype": "text/x-python",
   "name": "python",
   "nbconvert_exporter": "python",
   "pygments_lexer": "ipython3",
   "version": "3.13.3"
  }
 },
 "nbformat": 4,
 "nbformat_minor": 5
}
