{
 "cells": [
  {
   "cell_type": "code",
   "execution_count": 3,
   "id": "eeb3f486",
   "metadata": {},
   "outputs": [],
   "source": [
    "from faster_whisper import WhisperModel\n",
    "\n",
    "model = WhisperModel(\"large-v3\", device=\"cpu\", compute_type=\"int8\")"
   ]
  },
  {
   "cell_type": "code",
   "execution_count": 4,
   "id": "78f7add7",
   "metadata": {},
   "outputs": [],
   "source": [
    "import os\n",
    "audio_dir = \"audio_files\"\n",
    "transcribed_dir = \"transcribed\"\n",
    "for audio_file in os.listdir(audio_dir):\n",
    "    if audio_file.endswith(\".mp3\"):\n",
    "        audio_path = os.path.join(audio_dir, audio_file)\n",
    "        segments, info = model.transcribe(audio_path, language=\"ur\")\n",
    "        transcript = \"\".join(segment.text for segment in segments)\n",
    "        transcribed_file = os.path.join(transcribed_dir, audio_file.replace(\".mp3\", \".txt\"))\n",
    "        with open(transcribed_file, \"w\", encoding=\"utf-8\") as f:\n",
    "            f.write(transcript)"
   ]
  },
  {
   "cell_type": "code",
   "execution_count": 5,
   "id": "2d914b19",
   "metadata": {},
   "outputs": [],
   "source": [
    "import os\n",
    "from post_processor import UrduTextFormatter\n",
    "\n",
    "formatter = UrduTextFormatter()\n",
    "\n",
    "transcribed_dir = \"transcribed\"\n",
    "postprocessed_dir = \"postprocessed\"\n",
    "for transcribed_file in os.listdir(transcribed_dir):\n",
    "    transcribed_path = os.path.join(transcribed_dir, transcribed_file)\n",
    "    with open(transcribed_path, \"r\", encoding=\"utf-8\") as f:\n",
    "        text = f.read()\n",
    "    final_result = formatter.format_transcript(text)\n",
    "    postprocessed_file = os.path.join(postprocessed_dir, transcribed_file)\n",
    "    with open(postprocessed_file, \"w\", encoding=\"utf-8\") as f:\n",
    "        f.write(final_result['formatted_text'])"
   ]
  }
 ],
 "metadata": {
  "kernelspec": {
   "display_name": ".venv",
   "language": "python",
   "name": "python3"
  },
  "language_info": {
   "codemirror_mode": {
    "name": "ipython",
    "version": 3
   },
   "file_extension": ".py",
   "mimetype": "text/x-python",
   "name": "python",
   "nbconvert_exporter": "python",
   "pygments_lexer": "ipython3",
   "version": "3.13.3"
  }
 },
 "nbformat": 4,
 "nbformat_minor": 5
}
