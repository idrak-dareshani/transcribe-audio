{
 "cells": [
  {
   "cell_type": "code",
   "execution_count": null,
   "id": "e8a9ddb0",
   "metadata": {},
   "outputs": [],
   "source": [
    "import whisper\n",
    "\n",
    "model = whisper.load_model(\"large-v3\")"
   ]
  },
  {
   "cell_type": "code",
   "execution_count": null,
   "id": "c6e8a897",
   "metadata": {},
   "outputs": [],
   "source": [
    "result = model.transcribe(\"110 - SURAH AN-NASR.mp3\", language=\"ur\")\n",
    "\n",
    "content = result.get(\"text\", \"\")\n",
    "with open(\"110 - SURAH AN-NASR.txt\", \"w\", encoding=\"utf-8\") as f:\n",
    "    f.write(content)"
   ]
  },
  {
   "cell_type": "code",
   "execution_count": 1,
   "id": "eeb3f486",
   "metadata": {},
   "outputs": [
    {
     "name": "stderr",
     "output_type": "stream",
     "text": [
      "d:\\Projects\\transcribe-audio\\.venv\\Lib\\site-packages\\ctranslate2\\__init__.py:8: UserWarning: pkg_resources is deprecated as an API. See https://setuptools.pypa.io/en/latest/pkg_resources.html. The pkg_resources package is slated for removal as early as 2025-11-30. Refrain from using this package or pin to Setuptools<81.\n",
      "  import pkg_resources\n"
     ]
    },
    {
     "data": {
      "application/vnd.jupyter.widget-view+json": {
       "model_id": "8c11c81ba6c74b089112d831becce727",
       "version_major": 2,
       "version_minor": 0
      },
      "text/plain": [
       "model.bin:   0%|          | 0.00/3.09G [00:00<?, ?B/s]"
      ]
     },
     "metadata": {},
     "output_type": "display_data"
    }
   ],
   "source": [
    "from faster_whisper import WhisperModel\n",
    "\n",
    "model_fast = WhisperModel(\"large-v3\", device=\"cpu\", compute_type=\"int8\")"
   ]
  },
  {
   "cell_type": "code",
   "execution_count": null,
   "id": "78f7add7",
   "metadata": {},
   "outputs": [],
   "source": [
    "import os\n",
    "audio_dir = \"audio_files\"\n",
    "transcribed_dir = \"transcribed\"\n",
    "for audio_file in os.listdir(audio_dir):\n",
    "    if audio_file.endswith(\".mp3\"):\n",
    "        audio_path = os.path.join(audio_dir, audio_file)\n",
    "        segments, info = model_fast.transcribe(audio_path, language=\"ur\")\n",
    "        transcript = \"\".join(segment.text for segment in segments)\n",
    "        transcribed_file = os.path.join(transcribed_dir, audio_file.replace(\".mp3\", \".txt\"))\n",
    "        with open(transcribed_file, \"w\", encoding=\"utf-8\") as f:\n",
    "            f.write(transcript)"
   ]
  },
  {
   "cell_type": "code",
   "execution_count": null,
   "id": "2d914b19",
   "metadata": {},
   "outputs": [],
   "source": [
    "import os\n",
    "from post_processor import UrduTextFormatter\n",
    "\n",
    "formatter = UrduTextFormatter()\n",
    "\n",
    "transcribed_dir = \"transcribed\"\n",
    "postprocessed_dir = \"postprocessed\"\n",
    "for transcribed_file in os.listdir(transcribed_dir):\n",
    "    with open(transcribed_file, \"r\", encoding=\"utf-8\") as f:\n",
    "        text = f.read()\n",
    "    formatted_text = formatter.format_transcript(text)\n",
    "    postprocessed_file = os.path.join(postprocessed_dir, transcribed_file)\n",
    "    with open(postprocessed_file, \"w\", encoding=\"utf-8\") as f:\n",
    "        f.write(formatted_text)"
   ]
  }
 ],
 "metadata": {
  "kernelspec": {
   "display_name": ".venv",
   "language": "python",
   "name": "python3"
  },
  "language_info": {
   "codemirror_mode": {
    "name": "ipython",
    "version": 3
   },
   "file_extension": ".py",
   "mimetype": "text/x-python",
   "name": "python",
   "nbconvert_exporter": "python",
   "pygments_lexer": "ipython3",
   "version": "3.13.3"
  }
 },
 "nbformat": 4,
 "nbformat_minor": 5
}
